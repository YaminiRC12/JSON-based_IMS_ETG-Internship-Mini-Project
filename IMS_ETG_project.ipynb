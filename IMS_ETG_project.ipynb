{
 "cells": [
  {
   "cell_type": "code",
   "execution_count": 5,
   "metadata": {},
   "outputs": [],
   "source": [
    "#Dictionary >>\n",
    "records ={1:{\"name\":\"NoteBook\", \"price\":40, \"quantity_avail\":800,\"company\":\"Classmate\",\"Rating\":\"4.6\"},\n",
    "         2:{\"name\":\"A4 sheets\",\"price\":1,  \"quantity_avail\":500,\"company\":\"Winner\",\"Rating\":\"4.3\"},\n",
    "        3:{\"name\":\"Ink Pen,\", \"price\":30, \"quantity_avail\":50,\"company\":\"Reynolds\",\"Rating\":\"4.4\"},\n",
    "        4:{\"name\":\"Ball Pen\", \"price\":10,\"quantity_avail\":200, \"company\":\"Cello\",  \"Rating\":\"4.7\"},\n",
    "        5:{\"name\":\"Gel Pen\", \"price\":30,\"quantity_avail\":100,\"company\":\"Classmate Octane\",\"Rating\":\"4.5\"},\n",
    "        6:{\"name\":\"Pencil\",  \"price\": 2,\"quantity_avail\":200,\"company\":\"Apsara\",\"Rating\":\"4.4\"},\n",
    "        7:{\"name\":\"Lead Pencil\",\"price\":20,\"quantity_avail\":100,\"company\":\"Camlin\",\"Rating\":\"4.4\"},\n",
    "        8:{\"name\":\"Lead Box\",\"price\":5, \"quantity_avail\":100,\"company\":\"Camlin\",\"Rating\":\"4.4\"},\n",
    "        9:{\"name\":\"Tape\",\"price\":10, \"quantity_avail\":50, \"company\":\"Kotak\",\"Rating\":\"4.5\"},\n",
    "        10:{\"name\":\"Cardboard\",\"price\":20,\"quantity_avail\":30,\"company\":\"WestRock\",\"Rating\":\"4.7\"},\n",
    "        11:{\"name\":\"Scissor\",\"price\":25,\"quantity_avail\":50,\"company\":\"Munix\",\"Rating\":\"4.7\"},\n",
    "        12:{\"name\":\"Ink Bottle\",\"price\":20,\"quantity_avail\":50,\"company\":\"Camlin\",\"Rating\":\"4.4\"},\n",
    "        13:{\"name\":\"Eraser\",\"price\":5,\"quantity_avail\":100,\"company\":\"Camlin\",\"Rating\":\"4.7\"},\n",
    "        14:{\"name\":\"Sharpner\",\"price\":2,\"quantity_avail\":100,\"company\":\"Camlin\",\"Rating\":\"4.4\"},\n",
    "        15:{\"name\":\"Water Color Paintbox\",\"price\":150,\"quantity_avail\":100,\"company\":\"Camlin\",\"Rating\":\"4.8\"},\n",
    "        16:{\"name\":\"Gliter Pen packet\",\"price\":70,\"quantity_avail\":50,\"company\":\"Flair\",\"Rating\":\"4.9\"},\n",
    "        17:{\"name\":\"Document Holder\",\"price\":120,\"quantity_avail\":50,\"company\":\"Rudra\",\"Rating\":\"4.9\"},\n",
    "        18:{\"name\":\"Ruler\",\"price\":5,\"quantity_avail\":100,\"company\":\"classmate\",\"Rating\":\"4.7\"},\n",
    "        19:{\"name\":\"Stapler\",\"price\":40,\"quantity_avail\":50,\"company\":\"Kangaroo\",\"Rating\":\"4.8\"},\n",
    "        20:{\"name\":\"Staple Pin\",\"price\":10,\"quantity_avail\":100,\"company\":\"Kangaroo\",\"Rating\":\"4.8\"},\n",
    "        21:{\"name\":\"Ruler\",\"price\":5,\"quantity_avail\":100,\"company\":\"classmate\",\"Rating\":\"4.7\"},\n",
    "        22:{\"name\":\"Paper Clips Packet,\", \"price\":10,\"quantity_avail\":50,\"company\":\"Worldone\",\"Rating\":\"4.6\"},\n",
    "        23:{\"name\":\"School Bag\",\"price\":500,\"quantity_avail\":50,\"company\":\"Skybags\",\"Rating\":\"4.8\"},\n",
    "        24:{\"name\":\"Pouch\",\"price\":25,\"quantity_avail\":80,\"company\":\"Sanchi\",\"Rating\":\"4.7\"},\n",
    "        25:{\"name\":\"Compass Box\",\"price\":100,\"quantity_avail\":100,\"company\":\"Camel\",\"Rating\":\"4.7\"},\n",
    "        26:{\"name\":\"Calculator\",\"price\":350,\"quantity_avail\":100,\"company\":\"Casio\",\"Rating\":\"4.7\"},\n",
    "        27:{\"name\":\"Diary\",\"price\":50,\"quantity_avail\":100,\"company\":\"classmate\",\"Rating\":\"4.8\"},\n",
    "        28:{\"name\":\"Sketch Pens\",\"price\":25,\"quantity_avail\":70,\"company\":\"Faber-Castell\",\"Rating\":\"4.9\"},\n",
    "        29:{\"name\":\"Whitener\",\"price\":100,\"quantity_avail\":50,\"company\":\"Cello\",\"Rating\":\"4.7\"},\n",
    "        30:{\"name\":\"Marker Pen\",\"price\":100,\"quantity_avail\":50,\"company\":\"Camlin\",\"Rating\":\"4.6\"}}"
   ]
  },
  {
   "cell_type": "code",
   "execution_count": 6,
   "metadata": {},
   "outputs": [],
   "source": [
    "import json\n",
    "js=json.dumps(records)\n",
    "fd = open(\"record.json\",\"w\")\n",
    "fd.write(js)\n",
    "fd.close()"
   ]
  },
  {
   "cell_type": "code",
   "execution_count": null,
   "metadata": {},
   "outputs": [],
   "source": []
  },
  {
   "cell_type": "code",
   "execution_count": 7,
   "metadata": {},
   "outputs": [
    {
     "name": "stdout",
     "output_type": "stream",
     "text": [
      "***************WELCOME TO OUR SHOP***************\n",
      "--------------------ENTER MENU--------------------\n",
      "1.Show Items\n",
      "2.Buy Items\n",
      "3.Exit\n"
     ]
    },
    {
     "name": "stdin",
     "output_type": "stream",
     "text": [
      "Enter your choice: 1\n"
     ]
    },
    {
     "name": "stdout",
     "output_type": "stream",
     "text": [
      "1   👉  NoteBook\n",
      "2   👉  A4 sheets\n",
      "3   👉  Ink Pen,\n",
      "4   👉  Ball Pen\n",
      "5   👉  Gel Pen\n",
      "6   👉  Pencil\n",
      "7   👉  Lead Pencil\n",
      "8   👉  Lead Box\n",
      "9   👉  Tape\n",
      "10   👉  Cardboard\n",
      "11   👉  Scissor\n",
      "12   👉  Ink Bottle\n",
      "13   👉  Eraser\n",
      "14   👉  Sharpner\n",
      "15   👉  Water Color Paintbox\n",
      "16   👉  Gliter Pen packet\n",
      "17   👉  Document Holder\n",
      "18   👉  Ruler\n",
      "19   👉  Stapler\n",
      "20   👉  Staple Pin\n",
      "21   👉  Ruler\n",
      "22   👉  Paper Clips Packet,\n",
      "23   👉  School Bag\n",
      "24   👉  Pouch\n",
      "25   👉  Compass Box\n",
      "26   👉  Calculator\n",
      "27   👉  Diary\n",
      "28   👉  Sketch Pens\n",
      "29   👉  Whitener\n",
      "30   👉  Marker Pen\n",
      "--------------------ENTER MENU--------------------\n",
      "1.Show Items\n",
      "2.Buy Items\n",
      "3.Exit\n"
     ]
    },
    {
     "name": "stdin",
     "output_type": "stream",
     "text": [
      "Enter your choice: 2\n",
      "\n",
      "Enter product id:  30\n",
      "Enter product quantity:  5\n"
     ]
    },
    {
     "name": "stdout",
     "output_type": "stream",
     "text": [
      "Product Name:  Marker Pen\n",
      "Price:  100\n",
      "Individual Amount:  500\n",
      "----------------------\n",
      "Total Bill Amount :: 500\n",
      "----------------------\n",
      "--------------------ENTER MENU--------------------\n",
      "1.Show Items\n",
      "2.Buy Items\n",
      "3.Exit\n"
     ]
    },
    {
     "name": "stdin",
     "output_type": "stream",
     "text": [
      "Enter your choice: 2\n",
      "\n",
      "Enter product id:  29\n",
      "Enter product quantity:  2\n"
     ]
    },
    {
     "name": "stdout",
     "output_type": "stream",
     "text": [
      "Product Name:  Whitener\n",
      "Price:  100\n",
      "Individual Amount:  200\n",
      "----------------------\n",
      "Total Bill Amount :: 700\n",
      "----------------------\n",
      "--------------------ENTER MENU--------------------\n",
      "1.Show Items\n",
      "2.Buy Items\n",
      "3.Exit\n"
     ]
    },
    {
     "name": "stdin",
     "output_type": "stream",
     "text": [
      "Enter your choice: 3\n"
     ]
    },
    {
     "name": "stdout",
     "output_type": "stream",
     "text": [
      "Exiting...\n",
      "Thank You...Have Nice Day!😊 \n",
      "Please Visit Again..🙏 \n"
     ]
    }
   ],
   "source": [
    "print(\"***************WELCOME TO OUR SHOP***************\")\n",
    "flag = True\n",
    "total_amount=0\n",
    "while (True):\n",
    "        \n",
    "        print(\"--------------------ENTER MENU--------------------\")\n",
    "        print(\"1.Show Items\\n2.Buy Items\\n3.Exit\")\n",
    "        \n",
    "        ch = int(input(\"Enter your choice:\"))\n",
    "  \n",
    "        if ch == 1:\n",
    "            for i in records :\n",
    "                print(i , \"  👉 \",records[i][\"name\"])\n",
    "                \n",
    "        elif ch == 2:\n",
    "           \n",
    "                pid=int(input(\"\\nEnter product id: \"))\n",
    "                if int(pid) in records:\n",
    "                    quan=int(input(\"Enter product quantity: \"))\n",
    "                    if((records[pid]['quantity_avail']) >= quan):\n",
    "                        print(\"Product Name: \", records[pid]['name'])\n",
    "                        print(\"Price: \", records[pid]['price'])\n",
    "                        individual_amount=records[pid]['price'] * quan\n",
    "                        print(\"Individual Amount: \",individual_amount)\n",
    "                            \n",
    "                        records[pid]['quantity_avail'] = records[pid]['quantity_avail'] - quan\n",
    "                        import json\n",
    "                        fd = open(\"record.json\",'w') #jason file for updating after purchasing product\n",
    "                        js = json.dumps(records)\n",
    "                        fd.write(js)\n",
    "                        fd.close()\n",
    "                        sl = open(\"sales.txt\",'a') #sales file \n",
    "                        from datetime import datetime \n",
    "                        datetime = datetime.now()\n",
    "                        sales = (\"name : \" + str(records[int(pid)]['name']) +\" \" +\",\" + \" price : \" + str(records[int(pid)]['price']) + \" \" +\",\"+ \"saled product : \" + str(quan) + \" \"+\",\"\"individual amount : \" + str(individual_amount) +\" \" +\",\" +  \"time : \" + str(datetime) + \" \" + \"\\n\")\n",
    "                        sl.write(sales)\n",
    "                        sl.close()\n",
    "                        \n",
    "                        total_amount+=individual_amount\n",
    "                        print(\"----------------------\")\n",
    "                        print(\"Total Bill Amount ::\",total_amount)\n",
    "                        print(\"----------------------\")\n",
    "                        \n",
    "                    else:\n",
    "                        print(\"😔Sorry....Currently the quantity of selected product id is unavailable .\\nTotal Quantity available is \",records[pid]['quantity_avail'])\n",
    "               \n",
    "                else:\n",
    "                    print(\"Currently the product which you want is unavailable...\")\n",
    "         \n",
    "        elif (ch == 3):\n",
    "            print(\"Exiting...\\nThank You...Have Nice Day!😊 \\nPlease Visit Again..🙏 \")\n",
    "            break\n",
    "        else:\n",
    "            print(\"Please enter the Valid Menu choice\")"
   ]
  },
  {
   "cell_type": "code",
   "execution_count": null,
   "metadata": {},
   "outputs": [],
   "source": []
  },
  {
   "cell_type": "markdown",
   "metadata": {},
   "source": [
    "ADD OR DELETE ITEMS IN DICTIONARY>>>"
   ]
  },
  {
   "cell_type": "code",
   "execution_count": 8,
   "metadata": {},
   "outputs": [
    {
     "name": "stdout",
     "output_type": "stream",
     "text": [
      "press 1 to add items >\n",
      "press 2 to delete items >\n"
     ]
    },
    {
     "name": "stdin",
     "output_type": "stream",
     "text": [
      "enter the choice > 1\n",
      "how many products you want to add to it : 1\n",
      "enter the id of product : 31\n",
      "enter the name of the product :  notes\n",
      "enter the price :  10\n",
      "enter the quantity : 20\n",
      "enter the company : Classmate\n",
      "enter the rating of product : 4.6\n"
     ]
    }
   ],
   "source": [
    "\n",
    "print(\"press 1 to add items >\")\n",
    "print(\"press 2 to delete items >\")\n",
    "n = int(input(\"enter the choice >\"))\n",
    "if(n==2):                                                 \n",
    "    ndel = int(input(\"enter the no of products you want to delete : \"))\n",
    "    for i in range(ndel):\n",
    "        pid1 = int(input(\"enter the id which you want to delete :\"))\n",
    "        del records[pid1]\n",
    "else:\n",
    "    nadd = int(input(\"how many products you want to add to it :\") )                \n",
    "    for i in range(nadd):\n",
    "        pid2 = int(input(\"enter the id of product :\"))\n",
    "        if pid2 in records:\n",
    "            quantity = input(\"enter the quantity : \")\n",
    "            records[pid2]['quantity_avail'] = (int(records[pid2]['quantity_avail']) + int(quantity))\n",
    "     \n",
    "        else:\n",
    "            name = input(\"enter the name of the product : \")        #Add New Item into Inventory\n",
    "            price = int(input(\"enter the price : \"))\n",
    "            quantity = int(input(\"enter the quantity :\"))\n",
    "            company = input(\"enter the company :\")\n",
    "            rating = input(\"enter the rating of product :\")\n",
    "            records[pid2] = {\"name\":name,\"price\":price,\"quantity_avail\":quantity,\"company\":company,\"Rating\":rating}\n",
    "fd = open(\"record.json\",\"w\")\n",
    "js = json.dumps(records)\n",
    "fd.write(js)\n",
    "fd.close()"
   ]
  },
  {
   "cell_type": "code",
   "execution_count": null,
   "metadata": {},
   "outputs": [],
   "source": []
  },
  {
   "cell_type": "code",
   "execution_count": null,
   "metadata": {},
   "outputs": [],
   "source": []
  },
  {
   "cell_type": "code",
   "execution_count": null,
   "metadata": {},
   "outputs": [],
   "source": []
  }
 ],
 "metadata": {
  "kernelspec": {
   "display_name": "Python 3",
   "language": "python",
   "name": "python3"
  },
  "language_info": {
   "codemirror_mode": {
    "name": "ipython",
    "version": 3
   },
   "file_extension": ".py",
   "mimetype": "text/x-python",
   "name": "python",
   "nbconvert_exporter": "python",
   "pygments_lexer": "ipython3",
   "version": "3.8.5"
  }
 },
 "nbformat": 4,
 "nbformat_minor": 4
}
